{
 "cells": [
  {
   "cell_type": "code",
   "execution_count": 2,
   "metadata": {},
   "outputs": [],
   "source": [
    "from sqlalchemy import create_engine\n",
    "\n",
    "from config import db_user, db_password, db_host, db_port"
   ]
  },
  {
   "cell_type": "code",
   "execution_count": 4,
   "metadata": {},
   "outputs": [],
   "source": [
    "# Connect to the former employees database\n",
    "db_name = \"former_employees_db\"\n",
    "\n",
    "engine = create_engine(f\"postgres://{db_user}:{db_password}@{db_host}:{db_port}/{db_name}\")"
   ]
  },
  {
   "cell_type": "code",
   "execution_count": 5,
   "metadata": {},
   "outputs": [
    {
     "ename": "SyntaxError",
     "evalue": "EOL while scanning string literal (<ipython-input-5-329334e852cc>, line 6)",
     "output_type": "error",
     "traceback": [
      "\u001b[1;36m  File \u001b[1;32m\"<ipython-input-5-329334e852cc>\"\u001b[1;36m, line \u001b[1;32m6\u001b[0m\n\u001b[1;33m    LEFT JOIN salaries b \\\u001b[0m\n\u001b[1;37m                           \n^\u001b[0m\n\u001b[1;31mSyntaxError\u001b[0m\u001b[1;31m:\u001b[0m EOL while scanning string literal\n"
     ]
    }
   ],
   "source": [
    "# data = pd.read_sql(\"SELECT * FROM Census_Data\", engine)\n",
    "\n",
    "data = pd.read_sql(\"SELECT a.emp_no, a.last_name, a.first_name, \\\n",
    "                a.sex, b.salary, c.title \\\n",
    "                FROM employees a \\\n",
    "                LEFT JOIN salaries b \\ \n",
    "                ON a.emp_no = b.emp_no \\\n",
    "                LEFT JOIN titles c  \\\n",
    "                ON a.emp_title_id = c.title_id \\\n",
    "                ORDER BY a.emp_no;\", engine)\n"
   ]
  },
  {
   "cell_type": "code",
   "execution_count": null,
   "metadata": {},
   "outputs": [],
   "source": [
    "data.head()"
   ]
  }
 ],
 "metadata": {
  "kernelspec": {
   "display_name": "Python 3",
   "language": "python",
   "name": "python3"
  },
  "language_info": {
   "codemirror_mode": {
    "name": "ipython",
    "version": 3
   },
   "file_extension": ".py",
   "mimetype": "text/x-python",
   "name": "python",
   "nbconvert_exporter": "python",
   "pygments_lexer": "ipython3",
   "version": "3.8.3"
  }
 },
 "nbformat": 4,
 "nbformat_minor": 4
}
