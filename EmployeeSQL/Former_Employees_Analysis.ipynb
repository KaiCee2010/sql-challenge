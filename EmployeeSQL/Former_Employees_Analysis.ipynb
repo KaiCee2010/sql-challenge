{
 "cells": [
  {
   "cell_type": "code",
   "execution_count": 1,
   "metadata": {},
   "outputs": [],
   "source": [
    "# Import libraries\n",
    "from sqlalchemy import create_engine\n",
    "import pandas as pd\n",
    "import matplotlib.pyplot as plt\n",
    "import os\n",
    "from config import db_user, db_password, db_host, db_port"
   ]
  },
  {
   "cell_type": "code",
   "execution_count": 2,
   "metadata": {},
   "outputs": [],
   "source": [
    "# Connect to the former employees database\n",
    "db_name = \"former_employees_db\"\n",
    "engine = create_engine(f\"postgres://{db_user}:{db_password}@{db_host}:{db_port}/{db_name}\")"
   ]
  },
  {
   "cell_type": "code",
   "execution_count": 3,
   "metadata": {},
   "outputs": [
    {
     "data": {
      "text/html": [
       "<div>\n",
       "<style scoped>\n",
       "    .dataframe tbody tr th:only-of-type {\n",
       "        vertical-align: middle;\n",
       "    }\n",
       "\n",
       "    .dataframe tbody tr th {\n",
       "        vertical-align: top;\n",
       "    }\n",
       "\n",
       "    .dataframe thead th {\n",
       "        text-align: right;\n",
       "    }\n",
       "</style>\n",
       "<table border=\"1\" class=\"dataframe\">\n",
       "  <thead>\n",
       "    <tr style=\"text-align: right;\">\n",
       "      <th></th>\n",
       "      <th>emp_no</th>\n",
       "      <th>last_name</th>\n",
       "      <th>first_name</th>\n",
       "      <th>sex</th>\n",
       "      <th>salary</th>\n",
       "      <th>title</th>\n",
       "    </tr>\n",
       "  </thead>\n",
       "  <tbody>\n",
       "    <tr>\n",
       "      <th>0</th>\n",
       "      <td>10001</td>\n",
       "      <td>Facello</td>\n",
       "      <td>Georgi</td>\n",
       "      <td>M</td>\n",
       "      <td>60117</td>\n",
       "      <td>Senior Engineer</td>\n",
       "    </tr>\n",
       "    <tr>\n",
       "      <th>1</th>\n",
       "      <td>10002</td>\n",
       "      <td>Simmel</td>\n",
       "      <td>Bezalel</td>\n",
       "      <td>F</td>\n",
       "      <td>65828</td>\n",
       "      <td>Staff</td>\n",
       "    </tr>\n",
       "    <tr>\n",
       "      <th>2</th>\n",
       "      <td>10003</td>\n",
       "      <td>Bamford</td>\n",
       "      <td>Parto</td>\n",
       "      <td>M</td>\n",
       "      <td>40006</td>\n",
       "      <td>Senior Engineer</td>\n",
       "    </tr>\n",
       "    <tr>\n",
       "      <th>3</th>\n",
       "      <td>10004</td>\n",
       "      <td>Koblick</td>\n",
       "      <td>Chirstian</td>\n",
       "      <td>M</td>\n",
       "      <td>40054</td>\n",
       "      <td>Senior Engineer</td>\n",
       "    </tr>\n",
       "    <tr>\n",
       "      <th>4</th>\n",
       "      <td>10005</td>\n",
       "      <td>Maliniak</td>\n",
       "      <td>Kyoichi</td>\n",
       "      <td>M</td>\n",
       "      <td>78228</td>\n",
       "      <td>Staff</td>\n",
       "    </tr>\n",
       "  </tbody>\n",
       "</table>\n",
       "</div>"
      ],
      "text/plain": [
       "   emp_no last_name first_name sex  salary            title\n",
       "0   10001   Facello     Georgi   M   60117  Senior Engineer\n",
       "1   10002    Simmel    Bezalel   F   65828            Staff\n",
       "2   10003   Bamford      Parto   M   40006  Senior Engineer\n",
       "3   10004   Koblick  Chirstian   M   40054  Senior Engineer\n",
       "4   10005  Maliniak    Kyoichi   M   78228            Staff"
      ]
     },
     "execution_count": 3,
     "metadata": {},
     "output_type": "execute_result"
    }
   ],
   "source": [
    "# Add data from the engine to a dataframe\n",
    "emp_data = pd.read_sql(\"SELECT * FROM emp_salary_title\", engine)\n",
    "\n",
    "# Display data from the dataframe\n",
    "emp_data.head()"
   ]
  },
  {
   "cell_type": "code",
   "execution_count": 4,
   "metadata": {},
   "outputs": [
    {
     "name": "stdout",
     "output_type": "stream",
     "text": [
      "300024\n"
     ]
    }
   ],
   "source": [
    "#Print a count of records\n",
    "print(len(emp_data))"
   ]
  },
  {
   "cell_type": "code",
   "execution_count": 5,
   "metadata": {},
   "outputs": [
    {
     "data": {
      "image/png": "[encoded data removed]",
      "text/plain": [
       "<Figure size 864x576 with 1 Axes>"
      ]
     },
     "metadata": {
      "needs_background": "light"
     },
     "output_type": "display_data"
    },
    {
     "data": {
      "text/plain": [
       "<Figure size 432x288 with 0 Axes>"
      ]
     },
     "metadata": {},
     "output_type": "display_data"
    }
   ],
   "source": [
    "# Plot the histogram\n",
    "plt.figure(figsize=(12,8))\n",
    "plt.hist(emp_data['salary'],  bins=10, color='mediumaquamarine', zorder=2, rwidth=1)\n",
    "plt.grid(axis='y', linestyle='--', alpha=.5, zorder=3)\n",
    "plt.title(\"Histogram of Salaries\", weight='bold', size=12)\n",
    "plt.xlabel(\"Salary\", labelpad=20, weight='bold', size=12)\n",
    "plt.ylabel(\"Frequency\", labelpad=20, weight='bold', size=12)\n",
    "plt.ylim(0, 160000)\n",
    "plt.show()\n",
    "\n",
    "outfile = os.path.join('Output', 'histogram_salaries.png')\n",
    "plt.savefig(outfile)"
   ]
  },
  {
   "cell_type": "code",
   "execution_count": 7,
   "metadata": {},
   "outputs": [
    {
     "data": {
      "text/html": [
       "<div>\n",
       "<style scoped>\n",
       "    .dataframe tbody tr th:only-of-type {\n",
       "        vertical-align: middle;\n",
       "    }\n",
       "\n",
       "    .dataframe tbody tr th {\n",
       "        vertical-align: top;\n",
       "    }\n",
       "\n",
       "    .dataframe thead th {\n",
       "        text-align: right;\n",
       "    }\n",
       "</style>\n",
       "<table border=\"1\" class=\"dataframe\">\n",
       "  <thead>\n",
       "    <tr style=\"text-align: right;\">\n",
       "      <th></th>\n",
       "      <th>count</th>\n",
       "      <th>mean</th>\n",
       "      <th>std</th>\n",
       "      <th>min</th>\n",
       "      <th>25%</th>\n",
       "      <th>50%</th>\n",
       "      <th>75%</th>\n",
       "      <th>max</th>\n",
       "    </tr>\n",
       "    <tr>\n",
       "      <th>title</th>\n",
       "      <th></th>\n",
       "      <th></th>\n",
       "      <th></th>\n",
       "      <th></th>\n",
       "      <th></th>\n",
       "      <th></th>\n",
       "      <th></th>\n",
       "      <th></th>\n",
       "    </tr>\n",
       "  </thead>\n",
       "  <tbody>\n",
       "    <tr>\n",
       "      <th>Assistant Engineer</th>\n",
       "      <td>5835.0</td>\n",
       "      <td>48564.434447</td>\n",
       "      <td>10281.259519</td>\n",
       "      <td>40000.0</td>\n",
       "      <td>40000.00</td>\n",
       "      <td>44588.0</td>\n",
       "      <td>54671.50</td>\n",
       "      <td>99683.0</td>\n",
       "    </tr>\n",
       "    <tr>\n",
       "      <th>Engineer</th>\n",
       "      <td>47303.0</td>\n",
       "      <td>48535.336511</td>\n",
       "      <td>10340.663069</td>\n",
       "      <td>40000.0</td>\n",
       "      <td>40000.00</td>\n",
       "      <td>44478.0</td>\n",
       "      <td>54645.00</td>\n",
       "      <td>100683.0</td>\n",
       "    </tr>\n",
       "    <tr>\n",
       "      <th>Manager</th>\n",
       "      <td>24.0</td>\n",
       "      <td>51531.041667</td>\n",
       "      <td>12068.128725</td>\n",
       "      <td>40000.0</td>\n",
       "      <td>40000.00</td>\n",
       "      <td>48458.5</td>\n",
       "      <td>60358.75</td>\n",
       "      <td>72446.0</td>\n",
       "    </tr>\n",
       "    <tr>\n",
       "      <th>Senior Engineer</th>\n",
       "      <td>97747.0</td>\n",
       "      <td>48506.799871</td>\n",
       "      <td>10252.482143</td>\n",
       "      <td>40000.0</td>\n",
       "      <td>40000.00</td>\n",
       "      <td>44502.0</td>\n",
       "      <td>54605.00</td>\n",
       "      <td>110449.0</td>\n",
       "    </tr>\n",
       "    <tr>\n",
       "      <th>Senior Staff</th>\n",
       "      <td>26583.0</td>\n",
       "      <td>58550.172704</td>\n",
       "      <td>16473.869221</td>\n",
       "      <td>40000.0</td>\n",
       "      <td>41242.00</td>\n",
       "      <td>56585.0</td>\n",
       "      <td>70632.50</td>\n",
       "      <td>127238.0</td>\n",
       "    </tr>\n",
       "    <tr>\n",
       "      <th>Staff</th>\n",
       "      <td>107384.0</td>\n",
       "      <td>58465.382850</td>\n",
       "      <td>16499.506888</td>\n",
       "      <td>40000.0</td>\n",
       "      <td>41012.75</td>\n",
       "      <td>56407.0</td>\n",
       "      <td>70530.50</td>\n",
       "      <td>129492.0</td>\n",
       "    </tr>\n",
       "    <tr>\n",
       "      <th>Technique Leader</th>\n",
       "      <td>15148.0</td>\n",
       "      <td>48582.896092</td>\n",
       "      <td>10315.342481</td>\n",
       "      <td>40000.0</td>\n",
       "      <td>40000.00</td>\n",
       "      <td>44546.0</td>\n",
       "      <td>54960.25</td>\n",
       "      <td>104065.0</td>\n",
       "    </tr>\n",
       "  </tbody>\n",
       "</table>\n",
       "</div>"
      ],
      "text/plain": [
       "                       count          mean           std      min       25%  \\\n",
       "title                                                                         \n",
       "Assistant Engineer    5835.0  48564.434447  10281.259519  40000.0  40000.00   \n",
       "Engineer             47303.0  48535.336511  10340.663069  40000.0  40000.00   \n",
       "Manager                 24.0  51531.041667  12068.128725  40000.0  40000.00   \n",
       "Senior Engineer      97747.0  48506.799871  10252.482143  40000.0  40000.00   \n",
       "Senior Staff         26583.0  58550.172704  16473.869221  40000.0  41242.00   \n",
       "Staff               107384.0  58465.382850  16499.506888  40000.0  41012.75   \n",
       "Technique Leader     15148.0  48582.896092  10315.342481  40000.0  40000.00   \n",
       "\n",
       "                        50%       75%       max  \n",
       "title                                            \n",
       "Assistant Engineer  44588.0  54671.50   99683.0  \n",
       "Engineer            44478.0  54645.00  100683.0  \n",
       "Manager             48458.5  60358.75   72446.0  \n",
       "Senior Engineer     44502.0  54605.00  110449.0  \n",
       "Senior Staff        56585.0  70632.50  127238.0  \n",
       "Staff               56407.0  70530.50  129492.0  \n",
       "Technique Leader    44546.0  54960.25  104065.0  "
      ]
     },
     "execution_count": 7,
     "metadata": {},
     "output_type": "execute_result"
    }
   ],
   "source": [
    "#create a dataframe from the groupby\n",
    "title_grouped = emp_data.groupby(['title'])\n",
    "\n",
    "#get statistics\n",
    "title_grouped_describe = title_grouped.describe()['salary']\n",
    "\n",
    "#display the dataframe\n",
    "title_grouped_describe\n"
   ]
  },
  {
   "cell_type": "code",
   "execution_count": 8,
   "metadata": {},
   "outputs": [
    {
     "data": {
      "image/png": "[encoded data removed]",
      "text/plain": [
       "<Figure size 864x576 with 1 Axes>"
      ]
     },
     "metadata": {
      "needs_background": "light"
     },
     "output_type": "display_data"
    },
    {
     "data": {
      "text/plain": [
       "<Figure size 432x288 with 0 Axes>"
      ]
     },
     "metadata": {},
     "output_type": "display_data"
    }
   ],
   "source": [
    "#Plot the bar graph\n",
    "plt.figure(figsize=(12,8))\n",
    "plt.bar(title_grouped_describe.index, title_grouped_describe['mean'], color='paleturquoise', zorder=2)\n",
    "plt.grid(axis='y', linestyle='--', alpha=.5, zorder=3)\n",
    "plt.title(\"Average Salary by Title\", weight='bold', size=12)\n",
    "plt.xlabel(\"Title\", labelpad=20, weight='bold', size=12)\n",
    "plt.ylabel(\"Average Salary\", labelpad=20, weight='bold', size=12)\n",
    "plt.ylim(0, max(title_grouped_describe['mean']*1.1))\n",
    "plt.show()\n",
    "\n",
    "outfile = os.path.join('Output', 'average_salary_by_title.png')\n",
    "plt.savefig(outfile)"
   ]
  },
  {
   "cell_type": "code",
   "execution_count": null,
   "metadata": {},
   "outputs": [],
   "source": []
  }
 ],
 "metadata": {
  "kernelspec": {
   "display_name": "Python 3",
   "language": "python",
   "name": "python3"
  },
  "language_info": {
   "codemirror_mode": {
    "name": "ipython",
    "version": 3
   },
   "file_extension": ".py",
   "mimetype": "text/x-python",
   "name": "python",
   "nbconvert_exporter": "python",
   "pygments_lexer": "ipython3",
   "version": "3.8.3"
  }
 },
 "nbformat": 4,
 "nbformat_minor": 4
}
