{
 "cells": [
  {
   "cell_type": "code",
   "execution_count": 1,
   "metadata": {},
   "outputs": [],
   "source": [
    "from sqlalchemy import create_engine\n",
    "import pandas as pd\n",
    "import matplotlib.pyplot as plt\n",
    "from config import db_user, db_password, db_host, db_port\n",
    "\n"
   ]
  },
  {
   "cell_type": "code",
   "execution_count": 2,
   "metadata": {},
   "outputs": [],
   "source": [
    "# Connect to the former employees database\n",
    "db_name = \"former_employees_db\"\n",
    "\n",
    "engine = create_engine(f\"postgres://{db_user}:{db_password}@{db_host}:{db_port}/{db_name}\")"
   ]
  },
  {
   "cell_type": "code",
   "execution_count": 3,
   "metadata": {},
   "outputs": [],
   "source": [
    "# Add data from the engine to a dataframe\n",
    "emp_data = pd.read_sql(\"SELECT * FROM emp_salary_title\", engine)\n"
   ]
  },
  {
   "cell_type": "code",
   "execution_count": 4,
   "metadata": {},
   "outputs": [
    {
     "name": "stdout",
     "output_type": "stream",
     "text": [
      "300024\n"
     ]
    }
   ],
   "source": [
    "# Display data from the dataframe\n",
    "emp_data.head()\n",
    "\n",
    "#Print a count of records\n",
    "print(len(emp_data))"
   ]
  },
  {
   "cell_type": "code",
   "execution_count": 5,
   "metadata": {},
   "outputs": [
    {
     "data": {
      "text/plain": [
       "array([[<matplotlib.axes._subplots.AxesSubplot object at 0x00000216E55EA490>]],\n",
       "      dtype=object)"
      ]
     },
     "execution_count": 5,
     "metadata": {},
     "output_type": "execute_result"
    },
    {
     "data": {
      "image/png": "[encoded data removed]",
      "text/plain": [
       "<Figure size 432x288 with 1 Axes>"
      ]
     },
     "metadata": {
      "needs_background": "light"
     },
     "output_type": "display_data"
    }
   ],
   "source": [
    "# emp_data.hist(column='salary', bins=10, grid=False, figsize=(12,8), color='lightgreen', zorder=2, rwidth=1)\n",
    "\n",
    "emp_data.hist(column='salary')"
   ]
  },
  {
   "cell_type": "code",
   "execution_count": 17,
   "metadata": {},
   "outputs": [
    {
     "data": {
      "text/plain": [
       "(array([7.40124270e-05, 2.13303679e-05, 1.94750433e-05, 1.62247334e-05,\n",
       "        1.26682754e-05, 9.32578592e-06, 6.48497711e-06, 3.94081914e-06,\n",
       "        2.29722828e-06, 1.09665835e-06, 4.73188802e-07, 1.93297905e-07,\n",
       "        6.70397358e-08, 1.84359274e-08, 4.46931572e-09]),\n",
       " array([ 40000.        ,  45966.13333333,  51932.26666667,  57898.4       ,\n",
       "         63864.53333333,  69830.66666667,  75796.8       ,  81762.93333333,\n",
       "         87729.06666667,  93695.2       ,  99661.33333333, 105627.46666667,\n",
       "        111593.6       , 117559.73333333, 123525.86666667, 129492.        ]),\n",
       " <a list of 15 Patch objects>)"
      ]
     },
     "execution_count": 17,
     "metadata": {},
     "output_type": "execute_result"
    },
    {
     "data": {
      "image/png": "[encoded data removed]",
      "text/plain": [
       "<Figure size 432x288 with 1 Axes>"
      ]
     },
     "metadata": {
      "needs_background": "light"
     },
     "output_type": "display_data"
    }
   ],
   "source": [
    "plt.hist(emp_data['salary'], 15, density=True, facecolor='g', alpha=0.75)\n",
    "\n",
    "plt.xlabel('Salary')\n",
    "plt.ylabel('Probability')\n",
    "plt.title('Histogram of IQ')\n",
    "plt.text(60, .025, r'$\\mu=100,\\ \\sigma=15$')\n",
    "plt.xlim(40, 160)\n",
    "plt.ylim(0, 0.03)\n",
    "plt.grid(True)\n",
    "plt.show()"
   ]
  },
  {
   "cell_type": "code",
   "execution_count": null,
   "metadata": {},
   "outputs": [],
   "source": []
  }
 ],
 "metadata": {
  "kernelspec": {
   "display_name": "Python 3",
   "language": "python",
   "name": "python3"
  },
  "language_info": {
   "codemirror_mode": {
    "name": "ipython",
    "version": 3
   },
   "file_extension": ".py",
   "mimetype": "text/x-python",
   "name": "python",
   "nbconvert_exporter": "python",
   "pygments_lexer": "ipython3",
   "version": "3.8.3"
  }
 },
 "nbformat": 4,
 "nbformat_minor": 4
}
